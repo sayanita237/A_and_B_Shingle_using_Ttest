{
 "cells": [
  {
   "cell_type": "code",
   "execution_count": 1,
   "id": "46e01251",
   "metadata": {},
   "outputs": [],
   "source": [
    "import numpy as np\n",
    "import pandas as pd\n",
    "import matplotlib.pyplot as plt\n",
    "%matplotlib inline\n",
    "import seaborn as sns\n",
    "import scipy.stats as stats\n",
    "from   scipy.stats               import ttest_1samp, ttest_ind\n",
    "import statsmodels.stats.api as sm"
   ]
  },
  {
   "cell_type": "markdown",
   "id": "f3bf47c3",
   "metadata": {},
   "source": [
    "#### The file (A & B shingles.csv) includes 36 measurements (in pounds per 100 square feet) for A shingles and 31 for B shingles."
   ]
  },
  {
   "cell_type": "code",
   "execution_count": 2,
   "id": "2a61b38d",
   "metadata": {},
   "outputs": [
    {
     "data": {
      "text/html": [
       "<div>\n",
       "<style scoped>\n",
       "    .dataframe tbody tr th:only-of-type {\n",
       "        vertical-align: middle;\n",
       "    }\n",
       "\n",
       "    .dataframe tbody tr th {\n",
       "        vertical-align: top;\n",
       "    }\n",
       "\n",
       "    .dataframe thead th {\n",
       "        text-align: right;\n",
       "    }\n",
       "</style>\n",
       "<table border=\"1\" class=\"dataframe\">\n",
       "  <thead>\n",
       "    <tr style=\"text-align: right;\">\n",
       "      <th></th>\n",
       "      <th>A</th>\n",
       "      <th>B</th>\n",
       "    </tr>\n",
       "  </thead>\n",
       "  <tbody>\n",
       "    <tr>\n",
       "      <th>0</th>\n",
       "      <td>0.44</td>\n",
       "      <td>0.14</td>\n",
       "    </tr>\n",
       "    <tr>\n",
       "      <th>1</th>\n",
       "      <td>0.61</td>\n",
       "      <td>0.15</td>\n",
       "    </tr>\n",
       "    <tr>\n",
       "      <th>2</th>\n",
       "      <td>0.47</td>\n",
       "      <td>0.31</td>\n",
       "    </tr>\n",
       "    <tr>\n",
       "      <th>3</th>\n",
       "      <td>0.30</td>\n",
       "      <td>0.16</td>\n",
       "    </tr>\n",
       "    <tr>\n",
       "      <th>4</th>\n",
       "      <td>0.15</td>\n",
       "      <td>0.37</td>\n",
       "    </tr>\n",
       "  </tbody>\n",
       "</table>\n",
       "</div>"
      ],
      "text/plain": [
       "      A     B\n",
       "0  0.44  0.14\n",
       "1  0.61  0.15\n",
       "2  0.47  0.31\n",
       "3  0.30  0.16\n",
       "4  0.15  0.37"
      ]
     },
     "execution_count": 2,
     "metadata": {},
     "output_type": "execute_result"
    }
   ],
   "source": [
    "a_b_data = pd.read_csv('A+&+B+shingles.csv')\n",
    "a_b_data.head()"
   ]
  },
  {
   "cell_type": "code",
   "execution_count": 3,
   "id": "0024e2d5",
   "metadata": {},
   "outputs": [
    {
     "data": {
      "text/plain": [
       "A    0\n",
       "B    5\n",
       "dtype: int64"
      ]
     },
     "execution_count": 3,
     "metadata": {},
     "output_type": "execute_result"
    }
   ],
   "source": [
    "a_b_data.isnull().sum()"
   ]
  },
  {
   "cell_type": "code",
   "execution_count": 4,
   "id": "2e2ce2bf",
   "metadata": {},
   "outputs": [
    {
     "name": "stdout",
     "output_type": "stream",
     "text": [
      "Total Number of Rows: 36 \n",
      "Total Number of columns: 2\n"
     ]
    }
   ],
   "source": [
    "row, col = a_b_data.shape\n",
    "print('Total Number of Rows:', row, '\\n''Total Number of columns:',col)"
   ]
  },
  {
   "cell_type": "markdown",
   "id": "54b730cc",
   "metadata": {},
   "source": [
    "#### 3.1 Do you think there is evidence that means moisture contents in both types of shingles are within the permissible limits? State your conclusions clearly showing all steps."
   ]
  },
  {
   "cell_type": "code",
   "execution_count": 5,
   "id": "392a0deb",
   "metadata": {},
   "outputs": [
    {
     "data": {
      "text/html": [
       "<div>\n",
       "<style scoped>\n",
       "    .dataframe tbody tr th:only-of-type {\n",
       "        vertical-align: middle;\n",
       "    }\n",
       "\n",
       "    .dataframe tbody tr th {\n",
       "        vertical-align: top;\n",
       "    }\n",
       "\n",
       "    .dataframe thead th {\n",
       "        text-align: right;\n",
       "    }\n",
       "</style>\n",
       "<table border=\"1\" class=\"dataframe\">\n",
       "  <thead>\n",
       "    <tr style=\"text-align: right;\">\n",
       "      <th></th>\n",
       "      <th>count</th>\n",
       "      <th>mean</th>\n",
       "      <th>std</th>\n",
       "      <th>min</th>\n",
       "      <th>25%</th>\n",
       "      <th>50%</th>\n",
       "      <th>75%</th>\n",
       "      <th>max</th>\n",
       "    </tr>\n",
       "  </thead>\n",
       "  <tbody>\n",
       "    <tr>\n",
       "      <th>A</th>\n",
       "      <td>36.0</td>\n",
       "      <td>0.316667</td>\n",
       "      <td>0.135731</td>\n",
       "      <td>0.13</td>\n",
       "      <td>0.2075</td>\n",
       "      <td>0.29</td>\n",
       "      <td>0.3925</td>\n",
       "      <td>0.72</td>\n",
       "    </tr>\n",
       "    <tr>\n",
       "      <th>B</th>\n",
       "      <td>31.0</td>\n",
       "      <td>0.273548</td>\n",
       "      <td>0.137296</td>\n",
       "      <td>0.10</td>\n",
       "      <td>0.1600</td>\n",
       "      <td>0.23</td>\n",
       "      <td>0.4000</td>\n",
       "      <td>0.58</td>\n",
       "    </tr>\n",
       "  </tbody>\n",
       "</table>\n",
       "</div>"
      ],
      "text/plain": [
       "   count      mean       std   min     25%   50%     75%   max\n",
       "A   36.0  0.316667  0.135731  0.13  0.2075  0.29  0.3925  0.72\n",
       "B   31.0  0.273548  0.137296  0.10  0.1600  0.23  0.4000  0.58"
      ]
     },
     "execution_count": 5,
     "metadata": {},
     "output_type": "execute_result"
    }
   ],
   "source": [
    "a_b_data.describe().T"
   ]
  },
  {
   "cell_type": "markdown",
   "id": "ea20e51a",
   "metadata": {},
   "source": [
    "#### Step 1: Define Null and alternate hypothesis for sample A"
   ]
  },
  {
   "cell_type": "markdown",
   "id": "e1956fd9",
   "metadata": {},
   "source": [
    "\n",
    "Testing whether the moisture content is greater the permissible limit\n",
    "\n",
    "The null hypothesis states that the moisture content of sample A is less than or equal to the permissible limit, 𝜇 ≤ 0.35\n",
    "\n",
    "The alternative hypothesis states that the moisture content of sample A is greater than permissible limit, 𝜇 > 0.35\n",
    "\n",
    "𝐻0 : 𝜇 ≤ 0.35\n",
    "\n",
    "𝐻𝐴 : 𝜇 > 0.35"
   ]
  },
  {
   "cell_type": "markdown",
   "id": "c4078490",
   "metadata": {},
   "source": [
    "#### Step 2: Decide the significance level"
   ]
  },
  {
   "cell_type": "code",
   "execution_count": 6,
   "id": "dcc16af3",
   "metadata": {},
   "outputs": [],
   "source": [
    "α = 0.05"
   ]
  },
  {
   "cell_type": "markdown",
   "id": "e1a37566",
   "metadata": {},
   "source": [
    "#### Step 3: Identify the test statistic"
   ]
  },
  {
   "cell_type": "markdown",
   "id": "c0381197",
   "metadata": {},
   "source": [
    "We have two samples (A and B) and we do not know the population standard deviation. Sample sizes for both samples are not the same. The sample size is , n > 30. So we use the t distribution and the 𝑡𝑆𝑇𝐴𝑇 test statistic for one sample test for A sample or One tail test for sample A"
   ]
  },
  {
   "cell_type": "code",
   "execution_count": 7,
   "id": "9114c324",
   "metadata": {},
   "outputs": [
    {
     "data": {
      "text/plain": [
       "A    0.316667\n",
       "B    0.273548\n",
       "dtype: float64"
      ]
     },
     "execution_count": 7,
     "metadata": {},
     "output_type": "execute_result"
    }
   ],
   "source": [
    "a_b_data.mean()"
   ]
  },
  {
   "cell_type": "code",
   "execution_count": 8,
   "id": "cb60b97c",
   "metadata": {},
   "outputs": [
    {
     "data": {
      "text/plain": [
       "A    0.135731\n",
       "B    0.137296\n",
       "dtype: float64"
      ]
     },
     "execution_count": 8,
     "metadata": {},
     "output_type": "execute_result"
    }
   ],
   "source": [
    "a_b_data.std()"
   ]
  },
  {
   "cell_type": "markdown",
   "id": "6815d9c1",
   "metadata": {},
   "source": [
    "#### Step 4: Calculate the p - value and test statistic"
   ]
  },
  {
   "cell_type": "code",
   "execution_count": 9,
   "id": "53934ae5",
   "metadata": {},
   "outputs": [],
   "source": [
    "n_A = 36\n",
    "𝜇 = 0.35\n",
    "mean_A = Xbar_A =  0.316667\n",
    "std_A = s_A = 0.135731"
   ]
  },
  {
   "cell_type": "markdown",
   "id": "f71ae72c",
   "metadata": {},
   "source": [
    "**Test statistics**"
   ]
  },
  {
   "cell_type": "code",
   "execution_count": 10,
   "id": "a2a71728",
   "metadata": {},
   "outputs": [
    {
     "data": {
      "text/plain": [
       "-1.4734880020039638"
      ]
     },
     "execution_count": 10,
     "metadata": {},
     "output_type": "execute_result"
    }
   ],
   "source": [
    "t_test_A = (mean_A - 𝜇)*6/s_A\n",
    "t_test_A"
   ]
  },
  {
   "cell_type": "markdown",
   "id": "24729af9",
   "metadata": {},
   "source": [
    "**P Value**"
   ]
  },
  {
   "cell_type": "code",
   "execution_count": 11,
   "id": "06f364de",
   "metadata": {},
   "outputs": [
    {
     "data": {
      "text/plain": [
       "0.9252214399379082"
      ]
     },
     "execution_count": 11,
     "metadata": {},
     "output_type": "execute_result"
    }
   ],
   "source": [
    "P_value_A = (1 - stats.t.cdf(t_test_A,35))\n",
    "P_value_A"
   ]
  },
  {
   "cell_type": "markdown",
   "id": "dfc42916",
   "metadata": {},
   "source": [
    "**If P value is greater than α then we have to accept null hypothesis**"
   ]
  },
  {
   "cell_type": "code",
   "execution_count": 12,
   "id": "1a8445e1",
   "metadata": {},
   "outputs": [
    {
     "data": {
      "text/plain": [
       "True"
      ]
     },
     "execution_count": 12,
     "metadata": {},
     "output_type": "execute_result"
    }
   ],
   "source": [
    "P_value_A > α\n",
    "# Fail to reject H0"
   ]
  },
  {
   "cell_type": "markdown",
   "id": "e805e425",
   "metadata": {},
   "source": [
    "### OR"
   ]
  },
  {
   "cell_type": "code",
   "execution_count": 13,
   "id": "8cf684e4",
   "metadata": {},
   "outputs": [
    {
     "name": "stdout",
     "output_type": "stream",
     "text": [
      "tstat -1.4735046253382782\n",
      "P Value 0.9252236685509249\n"
     ]
    }
   ],
   "source": [
    "t_statistic, p_value_A = ttest_1samp(a_b_data['A'],0.35,  alternative='greater')\n",
    "print('tstat',t_statistic)    \n",
    "print('P Value',p_value_A)"
   ]
  },
  {
   "cell_type": "markdown",
   "id": "1d78a532",
   "metadata": {},
   "source": [
    "**If the p-value is greater than alpha, you accept the null hypothesis. If it is less than alpha, you reject the null hypothesis.**"
   ]
  },
  {
   "cell_type": "code",
   "execution_count": 14,
   "id": "ae6eeec7",
   "metadata": {},
   "outputs": [
    {
     "name": "stdout",
     "output_type": "stream",
     "text": [
      "one-sample t-test p-value = 0.9252236685509249\n",
      "We do not have enough evidence to reject the null hypothesis in favour of alternative hypothesis\n",
      "We conclude that the moisture content is less than permissible limit in sample A.\n"
     ]
    }
   ],
   "source": [
    "print (\"one-sample t-test p-value =\", p_value_A)\n",
    "\n",
    "if (p_value_A) > α:\n",
    "     print('We do not have enough evidence to reject the null hypothesis in favour of alternative hypothesis')\n",
    "    \n",
    "else:\n",
    "    print('We have enough evidence to reject the null hypothesis in favour of alternative hypothesis')\n",
    "print('We conclude that the moisture content is less than permissible limit in sample A.')"
   ]
  },
  {
   "cell_type": "markdown",
   "id": "7c5c34ae",
   "metadata": {},
   "source": [
    "#### step 1: Define Null and alternate hypothesis for sample B"
   ]
  },
  {
   "cell_type": "markdown",
   "id": "20414a03",
   "metadata": {},
   "source": [
    "Testing whether the moisture content is greater the permissible limit\n",
    "\n",
    "The null hypothesis states that the moisture content of sample B is less than or equal to the permissible limit, 𝜇 ≤ 0.35\n",
    "\n",
    "The alternative hypothesis states that the moisture content of sample B is greater than permissible limit, 𝜇 > 0.35\n",
    "\n",
    "𝐻0 : 𝜇 ≤ 0.35\n",
    "\n",
    "𝐻𝐴 : 𝜇 > 0.35"
   ]
  },
  {
   "cell_type": "markdown",
   "id": "21194cd3",
   "metadata": {},
   "source": [
    "#### Step 2: Decide the significance level"
   ]
  },
  {
   "cell_type": "markdown",
   "id": "bb8b352f",
   "metadata": {},
   "source": [
    "α = 0.05"
   ]
  },
  {
   "cell_type": "markdown",
   "id": "e2f1008c",
   "metadata": {},
   "source": [
    "#### Step 3: Identify the test statistic"
   ]
  },
  {
   "cell_type": "markdown",
   "id": "cee7b3c1",
   "metadata": {},
   "source": [
    "We have two samples (A and B) and we do not know the population standard deviation. Sample sizes for both samples are not the same. The sample size is , n > 30. So we use the t distribution and the 𝑡𝑆𝑇𝐴𝑇 test statistic for one sample test for B sample. one tail test for Sample B"
   ]
  },
  {
   "cell_type": "markdown",
   "id": "9bef9fb5",
   "metadata": {},
   "source": [
    "#### Step 4: Calculate the p - value and test statistic"
   ]
  },
  {
   "cell_type": "code",
   "execution_count": 15,
   "id": "07c4ab82",
   "metadata": {},
   "outputs": [],
   "source": [
    "n_B = 31\n",
    "𝜇 = 0.35\n",
    "mean_B = Xbar_B = 0.273548\n",
    "std_B = s_B = 0.137296"
   ]
  },
  {
   "cell_type": "markdown",
   "id": "64dcc33c",
   "metadata": {},
   "source": [
    "**Test statistics**"
   ]
  },
  {
   "cell_type": "code",
   "execution_count": 16,
   "id": "b8222e10",
   "metadata": {},
   "outputs": [
    {
     "data": {
      "text/plain": [
       "-3.100357774932122"
      ]
     },
     "execution_count": 16,
     "metadata": {},
     "output_type": "execute_result"
    }
   ],
   "source": [
    "t_test_B = (mean_B - 𝜇)*(np.sqrt(31))/s_B\n",
    "t_test_B"
   ]
  },
  {
   "cell_type": "markdown",
   "id": "58699931",
   "metadata": {},
   "source": [
    "**P Value**"
   ]
  },
  {
   "cell_type": "code",
   "execution_count": 17,
   "id": "d22213eb",
   "metadata": {},
   "outputs": [
    {
     "data": {
      "text/plain": [
       "0.9979096635457595"
      ]
     },
     "execution_count": 17,
     "metadata": {},
     "output_type": "execute_result"
    }
   ],
   "source": [
    "P_value_B = (1 - stats.t.cdf(t_test_B,30))\n",
    "P_value_B"
   ]
  },
  {
   "cell_type": "markdown",
   "id": "78b30405",
   "metadata": {},
   "source": [
    "### OR"
   ]
  },
  {
   "cell_type": "code",
   "execution_count": 18,
   "id": "e2403ff3",
   "metadata": {},
   "outputs": [
    {
     "name": "stdout",
     "output_type": "stream",
     "text": [
      "tstat -3.1003313069986995\n",
      "P Value 0.9979095225996808\n"
     ]
    }
   ],
   "source": [
    "t_statistic, p_value_B = ttest_1samp(a_b_data['B'].dropna(),0.35, alternative='greater')\n",
    "print('tstat',t_statistic)    \n",
    "print('P Value',p_value_B)"
   ]
  },
  {
   "cell_type": "markdown",
   "id": "5be99449",
   "metadata": {},
   "source": [
    "#### Step 5: Decide to reject or accept null hypothesis"
   ]
  },
  {
   "cell_type": "markdown",
   "id": "57e3f745",
   "metadata": {},
   "source": [
    "**If P value is greater than α then we have to accept null hypothesis**"
   ]
  },
  {
   "cell_type": "code",
   "execution_count": 19,
   "id": "cc8ce2a8",
   "metadata": {},
   "outputs": [
    {
     "data": {
      "text/plain": [
       "True"
      ]
     },
     "execution_count": 19,
     "metadata": {},
     "output_type": "execute_result"
    }
   ],
   "source": [
    "P_value_B > 𝛼\n",
    "# Fail to reject H0"
   ]
  },
  {
   "cell_type": "code",
   "execution_count": 20,
   "id": "2eea678b",
   "metadata": {},
   "outputs": [
    {
     "name": "stdout",
     "output_type": "stream",
     "text": [
      "one-sample t-test p-value = 0.9979095225996808\n",
      "We do not have enough evidence to reject the null hypothesis in favour of alternative hypothesis\n",
      "We conclude that the moisture content is less than permissible limit in sample B.\n"
     ]
    }
   ],
   "source": [
    "print (\"one-sample t-test p-value =\", p_value_B)\n",
    "\n",
    "if (p_value_B) < 𝛼:\n",
    "    print('We have enough evidence to reject the null hypothesis in favour of alternative hypothesis')\n",
    "    \n",
    "else:\n",
    "    print('We do not have enough evidence to reject the null hypothesis in favour of alternative hypothesis')\n",
    "print('We conclude that the moisture content is less than permissible limit in sample B.')"
   ]
  },
  {
   "cell_type": "markdown",
   "id": "fcb86add",
   "metadata": {},
   "source": [
    "#### 3.2 Do you think that the population mean for shingles A and B are equal? Form the hypothesis and conduct the test of the hypothesis. What assumption do you need to check before the test for equality of means is performed?"
   ]
  },
  {
   "cell_type": "markdown",
   "id": "cc3d97c2",
   "metadata": {},
   "source": [
    "#### step 1: Define Null and alternate hypothesis"
   ]
  },
  {
   "cell_type": "markdown",
   "id": "8416b34b",
   "metadata": {},
   "source": [
    "In testing whether the mean for shingles A and Shingles B are the same, the null hypothesis states that the mean of shingle A to mean of shingle B are the same. The alternative hypothesis states that the means are different."
   ]
  },
  {
   "cell_type": "markdown",
   "id": "44578a01",
   "metadata": {},
   "source": [
    "H0: 𝜇(A) = 𝜇(B)\n",
    "    \n",
    "HA: 𝜇(A) ≠ 𝜇(B)"
   ]
  },
  {
   "cell_type": "markdown",
   "id": "bf0ae8c0",
   "metadata": {},
   "source": [
    "#### Step 2: Decide the significance level"
   ]
  },
  {
   "cell_type": "markdown",
   "id": "c1ce118b",
   "metadata": {},
   "source": [
    "𝛼 = 0.05 "
   ]
  },
  {
   "cell_type": "markdown",
   "id": "5648b853",
   "metadata": {},
   "source": [
    "#### Step 3: Identify the test statistic"
   ]
  },
  {
   "cell_type": "markdown",
   "id": "49dff152",
   "metadata": {},
   "source": [
    "We have two samples and we do not know the population standard deviation. Sample sizes of both samples are not same. The sample size is , n > 30. So we use the t distribution and the 𝑡𝑆𝑇𝐴𝑇 test statistic for two sample test."
   ]
  },
  {
   "cell_type": "markdown",
   "id": "71ab6be8",
   "metadata": {},
   "source": [
    "#### Step 4: Calculate the P_value and test statistic"
   ]
  },
  {
   "cell_type": "code",
   "execution_count": 21,
   "id": "918ca287",
   "metadata": {},
   "outputs": [
    {
     "name": "stdout",
     "output_type": "stream",
     "text": [
      "tstat 1.2896282719661123\n",
      "P_Value 0.2017496571835306\n"
     ]
    }
   ],
   "source": [
    "t_statistic, p_value_A_B  = ttest_ind(a_b_data['A'],a_b_data['B'],nan_policy='omit')\n",
    "print('tstat',t_statistic)    \n",
    "print('P_Value',p_value_A_B)"
   ]
  },
  {
   "cell_type": "markdown",
   "id": "11a243fb",
   "metadata": {},
   "source": [
    "#### Step 5: Decide to reject or accept null hypothesis"
   ]
  },
  {
   "cell_type": "code",
   "execution_count": 22,
   "id": "3bfd61d1",
   "metadata": {},
   "outputs": [
    {
     "name": "stdout",
     "output_type": "stream",
     "text": [
      "two-sample t-test P_value= 0.2017496571835306\n",
      "We do not have enough evidence to reject the null hypothesis in favour of alternative hypothesis\n",
      "We conclude that mean for shingles A and shingles B are same\n"
     ]
    }
   ],
   "source": [
    "print (\"two-sample t-test P_value=\", p_value_A_B)\n",
    "\n",
    "if p_value_A_B < 𝛼:\n",
    "    print('We have enough evidence to reject the null hypothesis in favour of alternative hypothesis')\n",
    "\n",
    "else:\n",
    "    print('We do not have enough evidence to reject the null hypothesis in favour of alternative hypothesis')\n",
    "print('We conclude that mean for shingles A and shingles B are same')"
   ]
  }
 ],
 "metadata": {
  "kernelspec": {
   "display_name": "Python 3 (ipykernel)",
   "language": "python",
   "name": "python3"
  },
  "language_info": {
   "codemirror_mode": {
    "name": "ipython",
    "version": 3
   },
   "file_extension": ".py",
   "mimetype": "text/x-python",
   "name": "python",
   "nbconvert_exporter": "python",
   "pygments_lexer": "ipython3",
   "version": "3.9.13"
  }
 },
 "nbformat": 4,
 "nbformat_minor": 5
}
